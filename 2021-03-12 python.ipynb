{
 "cells": [
  {
   "cell_type": "code",
   "execution_count": 8,
   "metadata": {},
   "outputs": [
    {
     "name": "stdout",
     "output_type": "stream",
     "text": [
      "10 9 8 7 6 5 4 3 2 1\n",
      "10\n"
     ]
    }
   ],
   "source": [
    "a = list(map(int,input().split(\" \")))\n",
    "print(max(a))"
   ]
  },
  {
   "cell_type": "code",
   "execution_count": 15,
   "metadata": {},
   "outputs": [],
   "source": [
    "student = ['강은지','김유정','박현서','최성훈',\n",
    "           '홍유진','박지호','권윤일','김채리',\n",
    "           '한지호','김진이','김민호','강채연']"
   ]
  },
  {
   "cell_type": "code",
   "execution_count": 14,
   "metadata": {},
   "outputs": [
    {
     "name": "stdout",
     "output_type": "stream",
     "text": [
      "번호 : 1, 이름 : 강은지 \n",
      "번호 : 2, 이름 : 강채연 \n",
      "번호 : 3, 이름 : 권윤일 \n",
      "번호 : 4, 이름 : 김민호 \n",
      "번호 : 5, 이름 : 김유정 \n",
      "번호 : 6, 이름 : 김진이 \n",
      "번호 : 7, 이름 : 김채리 \n",
      "번호 : 8, 이름 : 박지호 \n",
      "번호 : 9, 이름 : 박현서 \n",
      "번호 : 10, 이름 : 최성훈 \n",
      "번호 : 11, 이름 : 한지호 \n",
      "번호 : 12, 이름 : 홍유진 \n"
     ]
    }
   ],
   "source": [
    "student.sort()\n",
    "for i in range(len(student)):\n",
    "    print(\"번호 : {}, 이름 : {} \".format(i+1,student[i]))"
   ]
  },
  {
   "cell_type": "code",
   "execution_count": 23,
   "metadata": {},
   "outputs": [
    {
     "name": "stdout",
     "output_type": "stream",
     "text": [
      "(0, '강은지')\n",
      "(1, '강채연')\n",
      "(2, '권윤일')\n",
      "(3, '김민호')\n",
      "(4, '김유정')\n",
      "(5, '김진이')\n",
      "(6, '김채리')\n",
      "(7, '박지호')\n",
      "(8, '박현서')\n",
      "(9, '최성훈')\n",
      "(10, '한지호')\n",
      "(11, '홍유진')\n",
      "번호 : 1, 이름: 강은지\n",
      "번호 : 2, 이름: 강채연\n",
      "번호 : 3, 이름: 권윤일\n",
      "번호 : 4, 이름: 김민호\n",
      "번호 : 5, 이름: 김유정\n",
      "번호 : 6, 이름: 김진이\n",
      "번호 : 7, 이름: 김채리\n",
      "번호 : 8, 이름: 박지호\n",
      "번호 : 9, 이름: 박현서\n",
      "번호 : 10, 이름: 최성훈\n",
      "번호 : 11, 이름: 한지호\n",
      "번호 : 12, 이름: 홍유진\n"
     ]
    }
   ],
   "source": [
    "student.sort()\n",
    "for p in enumerate(student):\n",
    "    print(p)\n",
    "for i, v in enumerate(student):\n",
    "    print(\"번호 : {}, 이름: {}\".format(i+1,v))"
   ]
  },
  {
   "cell_type": "code",
   "execution_count": 25,
   "metadata": {},
   "outputs": [],
   "source": [
    "# 20190923 을 출력합니다 아래기준만 만족하면됩니다.\n",
    "# 1.코드내에 숫자가 없어야합니다.print(20190923) 이라고 하시면안됩니다.\n",
    "# 2. 파일 이름이나 경로를 사용해서는 안됩니다\n",
    "# 3. 시간 날짜 함수를 이용해서는 안됩니다.\n",
    "# 4 에러번호 출력을 이용해서는 안됩니다.\n",
    "# 5. input을 이용해서는 안됩니다."
   ]
  },
  {
   "cell_type": "code",
   "execution_count": 55,
   "metadata": {},
   "outputs": [
    {
     "name": "stdout",
     "output_type": "stream",
     "text": [
      "20\n",
      "19\n",
      "0\n",
      "9\n",
      "23\n"
     ]
    }
   ],
   "source": [
    "a=print(str(ord('<')-ord('('))) # 아스키코드 이용 출력 20\n",
    "b=print(str(ord('<')-ord(')'))) # 출력 19\n",
    "c=print(str(ord('E')-ord('E'))) # 출력 0\n",
    "d=print(str(ord('E')-ord('<'))) # 출력 9\n",
    "e=print(str(ord('S')-ord('<'))) # 출력 23"
   ]
  },
  {
   "cell_type": "code",
   "execution_count": 58,
   "metadata": {},
   "outputs": [
    {
     "name": "stdout",
     "output_type": "stream",
     "text": [
      "20190923\n"
     ]
    }
   ],
   "source": [
    "a=print(str(ord('<')-ord('('))+  # 위에를 바탕으로 모두 더해서 출력\n",
    "        str(ord('<')-ord(')'))+\n",
    "        str(ord('E')-ord('E'))+\n",
    "        str(ord('E')-ord('<'))+\n",
    "        str(ord('S')-ord('<')))"
   ]
  },
  {
   "cell_type": "code",
   "execution_count": 86,
   "metadata": {},
   "outputs": [
    {
     "name": "stdout",
     "output_type": "stream",
     "text": [
      "20190903\n"
     ]
    }
   ],
   "source": [
    "a = 'aacdddddddddeee' # a 변수에 입력\n",
    "b=str(a.count('a'))+str(a.count('b'))+str(a.count('c'))+str(a.count('d'))+str(a.count('b'))+str(a.count('d'))+str(a.count('b'))+str(a.count('e'))\n",
    "# b 에 a,b,c,d,e의 갯수 문자로 변경후 더해줌\n",
    "print(b) # b를 출력"
   ]
  },
  {
   "cell_type": "code",
   "execution_count": 1,
   "metadata": {},
   "outputs": [
    {
     "name": "stdout",
     "output_type": "stream",
     "text": [
      "복잡한 세상 편하게 살자\n",
      "복세편살\n"
     ]
    }
   ],
   "source": [
    "a = input().split(' ')\n",
    "out = ''\n",
    "for i in a:\n",
    "    out = out + i[0]\n",
    "    \n",
    "print(out)"
   ]
  },
  {
   "cell_type": "code",
   "execution_count": 31,
   "metadata": {},
   "outputs": [
    {
     "name": "stdout",
     "output_type": "stream",
     "text": [
      "98798798\n",
      "10000000의 자리수\n"
     ]
    }
   ],
   "source": [
    "print(\"{}의 자리수\".format(10**(len(input())-1)))"
   ]
  },
  {
   "cell_type": "code",
   "execution_count": 33,
   "metadata": {},
   "outputs": [
    {
     "name": "stdout",
     "output_type": "stream",
     "text": [
      "숫자를 입력하시오:65465465\n",
      "8자리수\n"
     ]
    }
   ],
   "source": [
    "n=len(input('숫자를 입력하시오:'))\n",
    "print('%d자리수' % n)"
   ]
  },
  {
   "cell_type": "code",
   "execution_count": 38,
   "metadata": {},
   "outputs": [
    {
     "name": "stdout",
     "output_type": "stream",
     "text": [
      "공백을 제 외 한 글자 수 만을 센다\n",
      "13\n"
     ]
    }
   ],
   "source": [
    "a = input().split() # 입력받은것을 공백을 기준으로 나눈다\n",
    "b = '' # 빈 리스트를 만든다\n",
    "for i in a: # i 에 a를 넣는다\n",
    "    b += i # b 에 i를 넣는다 (공백을제거한 a)\n",
    "print(len(b)) # 공백을 제거한 글자수를 센다\n",
    "    \n"
   ]
  },
  {
   "cell_type": "code",
   "execution_count": null,
   "metadata": {},
   "outputs": [],
   "source": []
  }
 ],
 "metadata": {
  "kernelspec": {
   "display_name": "Python 3",
   "language": "python",
   "name": "python3"
  },
  "language_info": {
   "codemirror_mode": {
    "name": "ipython",
    "version": 3
   },
   "file_extension": ".py",
   "mimetype": "text/x-python",
   "name": "python",
   "nbconvert_exporter": "python",
   "pygments_lexer": "ipython3",
   "version": "3.8.8"
  }
 },
 "nbformat": 4,
 "nbformat_minor": 4
}
