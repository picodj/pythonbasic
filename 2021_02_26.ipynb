{
  "nbformat": 4,
  "nbformat_minor": 0,
  "metadata": {
    "colab": {
      "name": "2021-02-26.ipynb",
      "provenance": [],
      "authorship_tag": "ABX9TyMOfZ6JHIsDF8SswCrRrmfb",
      "include_colab_link": true
    },
    "kernelspec": {
      "name": "python3",
      "display_name": "Python 3"
    }
  },
  "cells": [
    {
      "cell_type": "markdown",
      "metadata": {
        "id": "view-in-github",
        "colab_type": "text"
      },
      "source": [
        "<a href=\"https://colab.research.google.com/github/picodj/pythonbasic/blob/main/2021_02_26.ipynb\" target=\"_parent\"><img src=\"https://colab.research.google.com/assets/colab-badge.svg\" alt=\"Open In Colab\"/></a>"
      ]
    },
    {
      "cell_type": "code",
      "metadata": {
        "colab": {
          "base_uri": "https://localhost:8080/",
          "height": 136
        },
        "id": "NxuE9yDsw4KJ",
        "outputId": "d960cabf-ae4f-448b-932b-03455bf2b786"
      },
      "source": [
        "# 27 \r\n",
        "a=input().split(' ')\r\n",
        "b=(input(int.split(' '))\r\n"
      ],
      "execution_count": 9,
      "outputs": [
        {
          "output_type": "error",
          "ename": "SyntaxError",
          "evalue": "ignored",
          "traceback": [
            "\u001b[0;36m  File \u001b[0;32m\"<ipython-input-9-802c8e08e212>\"\u001b[0;36m, line \u001b[0;32m4\u001b[0m\n\u001b[0;31m    total = {a[0]:b[0],a[1]:b[1]}\u001b[0m\n\u001b[0m        ^\u001b[0m\n\u001b[0;31mSyntaxError\u001b[0m\u001b[0;31m:\u001b[0m invalid syntax\n"
          ]
        }
      ]
    },
    {
      "cell_type": "code",
      "metadata": {
        "colab": {
          "base_uri": "https://localhost:8080/"
        },
        "id": "sa3kRdJVxubN",
        "outputId": "a21f1b4b-b10b-44c9-9d2a-1bf457945c4e"
      },
      "source": [
        "# 데이터 입력 받아서 처리\r\n",
        "\r\n",
        "a = input().split()\r\n",
        "\r\n",
        "print(a)"
      ],
      "execution_count": 10,
      "outputs": [
        {
          "output_type": "stream",
          "text": [
            "70 100\n",
            "['70', '100']\n"
          ],
          "name": "stdout"
        }
      ]
    },
    {
      "cell_type": "code",
      "metadata": {
        "colab": {
          "base_uri": "https://localhost:8080/"
        },
        "id": "lnCY7VW7zEbE",
        "outputId": "13e367eb-a45b-4215-f091-8d46c688d910"
      },
      "source": [
        "# 숫자로 입력 받아서 처리\r\n",
        "a = map(int,input().split())\r\n",
        "\r\n",
        "print(list(a))"
      ],
      "execution_count": 53,
      "outputs": [
        {
          "output_type": "stream",
          "text": [
            "70 100\n",
            "[70, 100]\n"
          ],
          "name": "stdout"
        }
      ]
    },
    {
      "cell_type": "code",
      "metadata": {
        "colab": {
          "base_uri": "https://localhost:8080/"
        },
        "id": "sq0XRvzD19XG",
        "outputId": "d9ee6c8a-5eb6-4e7d-81f4-7e0066e7c6f7"
      },
      "source": [
        "key = input().split()\r\n",
        "value =  map(int,input().split())\r\n",
        "\r\n",
        "print(dict(zip(key,value)))\r\n"
      ],
      "execution_count": 13,
      "outputs": [
        {
          "output_type": "stream",
          "text": [
            "Yujin Hyewon\n",
            "70 100\n",
            "{'Yujin': 70, 'Hyewon': 100}\n"
          ],
          "name": "stdout"
        }
      ]
    },
    {
      "cell_type": "code",
      "metadata": {
        "colab": {
          "base_uri": "https://localhost:8080/"
        },
        "id": "Qi389PhH6GMU",
        "outputId": "7c3054f1-f2d9-4ee2-9006-568103256604"
      },
      "source": [
        "# 28 \r\n",
        "\r\n",
        "words = input()\r\n",
        "for i in range(len(words) - 1):      \r\n",
        "    print(words[i]+words[i + 1])"
      ],
      "execution_count": 20,
      "outputs": [
        {
          "output_type": "stream",
          "text": [
            "python\n",
            "py\n",
            "yt\n",
            "th\n",
            "ho\n",
            "on\n"
          ],
          "name": "stdout"
        }
      ]
    },
    {
      "cell_type": "code",
      "metadata": {
        "colab": {
          "base_uri": "https://localhost:8080/"
        },
        "id": "ny3jH2mL61es",
        "outputId": "8c3f541b-2aa4-4455-fb2b-9f3517c3b4ca"
      },
      "source": [
        "# 29 \r\n",
        "# isupper 대문자 인지 확인\r\n",
        "# islower 소문자 인지 확인 \r\n",
        "# isdigit 숫자인지 확인 \r\n",
        "\r\n",
        "#ord ascll 코드 값을 확인 65 A 90 Z\r\n",
        "#chr \r\n",
        "\r\n",
        "word = input()\r\n",
        "if word.isupper():\r\n",
        "  print(\"YES\")\r\n",
        "else:\r\n",
        "  print(\"NO\")"
      ],
      "execution_count": 30,
      "outputs": [
        {
          "output_type": "stream",
          "text": [
            "r\n",
            "NO\n"
          ],
          "name": "stdout"
        }
      ]
    },
    {
      "cell_type": "code",
      "metadata": {
        "colab": {
          "base_uri": "https://localhost:8080/"
        },
        "id": "ZEj1W12DEuy6",
        "outputId": "c60609c6-1d21-4dc6-c9c4-4980fb4b7d3d"
      },
      "source": [
        "txt = input()\r\n",
        "if ord(txt) >= 65 and ord(txt) <= 90:\r\n",
        "  print('YES')\r\n",
        "else:\r\n",
        "  print('NO')"
      ],
      "execution_count": 29,
      "outputs": [
        {
          "output_type": "stream",
          "text": [
            "A\n",
            "YES\n"
          ],
          "name": "stdout"
        }
      ]
    },
    {
      "cell_type": "code",
      "metadata": {
        "colab": {
          "base_uri": "https://localhost:8080/"
        },
        "id": "Q5CgZNVbFzgB",
        "outputId": "a9f2c913-d1d4-46a1-8de6-5fe69d315f9f"
      },
      "source": [
        "# 30\r\n",
        "a = input()\r\n",
        "b = input()\r\n",
        "# a.index(b)\r\n",
        "print(a.find('apple'))\r\n",
        "\r\n"
      ],
      "execution_count": 32,
      "outputs": [
        {
          "output_type": "stream",
          "text": [
            "pineapple is yummy\n",
            "apple\n",
            "4\n"
          ],
          "name": "stdout"
        }
      ]
    },
    {
      "cell_type": "code",
      "metadata": {
        "colab": {
          "base_uri": "https://localhost:8080/"
        },
        "id": "u0LQf04PNEmd",
        "outputId": "b6aed06a-60a8-4dac-86b2-b6aa43b86718"
      },
      "source": [
        "# 32\r\n",
        "word = input().split()\r\n",
        "print(len(word))\r\n",
        "\r\n",
        "\r\n"
      ],
      "execution_count": 42,
      "outputs": [
        {
          "output_type": "stream",
          "text": [
            "저 넓은 세상을 네 눈앞에 그려봐 네 진심을 느껴봐 \n",
            "9\n"
          ],
          "name": "stdout"
        }
      ]
    },
    {
      "cell_type": "code",
      "metadata": {
        "colab": {
          "base_uri": "https://localhost:8080/"
        },
        "id": "plng-u12Qqwz",
        "outputId": "1cab2519-30f7-42b4-8a01-f5d31e9be663"
      },
      "source": [
        "txt = \"빅데이터   \"\r\n",
        "print(txt.strip())"
      ],
      "execution_count": 53,
      "outputs": [
        {
          "output_type": "stream",
          "text": [
            "빅데이터\n"
          ],
          "name": "stdout"
        }
      ]
    },
    {
      "cell_type": "code",
      "metadata": {
        "colab": {
          "base_uri": "https://localhost:8080/",
          "height": 226
        },
        "id": "C-DxzcJ2SZdx",
        "outputId": "328055ec-585f-464c-82ab-4e55ea1aa498"
      },
      "source": [
        "#33 \r\n",
        "num = list(input().split())\r\n",
        "num1 = num.reverse()\r\n",
        "print(int(num1))"
      ],
      "execution_count": 93,
      "outputs": [
        {
          "output_type": "stream",
          "text": [
            "1 2 3 4 5\n"
          ],
          "name": "stdout"
        },
        {
          "output_type": "error",
          "ename": "TypeError",
          "evalue": "ignored",
          "traceback": [
            "\u001b[0;31m---------------------------------------------------------------------------\u001b[0m",
            "\u001b[0;31mTypeError\u001b[0m                                 Traceback (most recent call last)",
            "\u001b[0;32m<ipython-input-93-e5fe95cf3766>\u001b[0m in \u001b[0;36m<module>\u001b[0;34m()\u001b[0m\n\u001b[1;32m      2\u001b[0m \u001b[0mnum\u001b[0m \u001b[0;34m=\u001b[0m \u001b[0mlist\u001b[0m\u001b[0;34m(\u001b[0m\u001b[0minput\u001b[0m\u001b[0;34m(\u001b[0m\u001b[0;34m)\u001b[0m\u001b[0;34m.\u001b[0m\u001b[0msplit\u001b[0m\u001b[0;34m(\u001b[0m\u001b[0;34m)\u001b[0m\u001b[0;34m)\u001b[0m\u001b[0;34m\u001b[0m\u001b[0;34m\u001b[0m\u001b[0m\n\u001b[1;32m      3\u001b[0m \u001b[0mnum1\u001b[0m \u001b[0;34m=\u001b[0m \u001b[0mnum\u001b[0m\u001b[0;34m.\u001b[0m\u001b[0mreverse\u001b[0m\u001b[0;34m(\u001b[0m\u001b[0;34m)\u001b[0m\u001b[0;34m\u001b[0m\u001b[0;34m\u001b[0m\u001b[0m\n\u001b[0;32m----> 4\u001b[0;31m \u001b[0mprint\u001b[0m\u001b[0;34m(\u001b[0m\u001b[0mint\u001b[0m\u001b[0;34m(\u001b[0m\u001b[0mnum1\u001b[0m\u001b[0;34m)\u001b[0m\u001b[0;34m)\u001b[0m\u001b[0;34m\u001b[0m\u001b[0;34m\u001b[0m\u001b[0m\n\u001b[0m",
            "\u001b[0;31mTypeError\u001b[0m: int() argument must be a string, a bytes-like object or a number, not 'NoneType'"
          ]
        }
      ]
    },
    {
      "cell_type": "code",
      "metadata": {
        "colab": {
          "base_uri": "https://localhost:8080/"
        },
        "id": "PDpKQ2ClUk_N",
        "outputId": "6b298d05-4191-4025-9864-5fafdc5146f5"
      },
      "source": [
        ".for i in range(10,0,-1):\r\n",
        "  print(i)"
      ],
      "execution_count": 75,
      "outputs": [
        {
          "output_type": "stream",
          "text": [
            "10\n",
            "9\n",
            "8\n",
            "7\n",
            "6\n",
            "5\n",
            "4\n",
            "3\n",
            "2\n",
            "1\n"
          ],
          "name": "stdout"
        }
      ]
    },
    {
      "cell_type": "code",
      "metadata": {
        "colab": {
          "base_uri": "https://localhost:8080/"
        },
        "id": "6xzePj-6Vrbg",
        "outputId": "7ca8fdd3-c252-4914-c6d7-f52b8df911cd"
      },
      "source": [
        "txt = input()\r\n",
        "txt2 = list(txt.split())\r\n",
        "txt3 = [int(i)for i in txt2]\r\n",
        "\r\n",
        "for i in range(len(txt3)-1,-1,-1):\r\n",
        "  print(txt3[i],end=' ')\r\n",
        "\r\n"
      ],
      "execution_count": 87,
      "outputs": [
        {
          "output_type": "stream",
          "text": [
            "1 2 3 4 5\n",
            "5 4 3 2 1 "
          ],
          "name": "stdout"
        }
      ]
    },
    {
      "cell_type": "code",
      "metadata": {
        "colab": {
          "base_uri": "https://localhost:8080/"
        },
        "id": "6w92m8efZpw4",
        "outputId": "ed1064b2-8161-413d-b04a-d08099a91d4b"
      },
      "source": [
        "# int 형태로 받는법 map(int,input().split())\r\n",
        "# int 형태로 만드는법 [int(i)for i in txt2]\r\n",
        "\r\n",
        "num1 = input()\r\n",
        "\r\n",
        "num2 = num1.split()\r\n",
        "num3 = [int(i)for i in num2]\r\n",
        "\r\n",
        "if num3 != sorted(num3):\r\n",
        "  print(\"NO\")\r\n",
        "else:\r\n",
        "  print(\"YES\")"
      ],
      "execution_count": 124,
      "outputs": [
        {
          "output_type": "stream",
          "text": [
            "1 2 3 4 5\n",
            "YES\n"
          ],
          "name": "stdout"
        }
      ]
    },
    {
      "cell_type": "code",
      "metadata": {
        "colab": {
          "base_uri": "https://localhost:8080/"
        },
        "id": "KuyZyyWycQor",
        "outputId": "513a6da2-a9fa-4c01-d0ac-6123d027bd6c"
      },
      "source": [
        "a = input().split()\r\n",
        "if a == sorted(a):\r\n",
        "  print(\"YES\")\r\n",
        "else:\r\n",
        "  print(\"NO\")\r\n",
        "\r\n",
        "# <list>.sort()를 사용하면 원본 리스트 자체의 순서를 변화 시킨다.\r\n",
        "# sorted(<list>) 를 사용하면 정렬된 새로운 리스트를 반환 받는다.\r\n",
        "# <list>.sort()는 새로운 복사본을 만들지 않기 때문에\r\n",
        "# sorted(<list>)보다 빠르다 "
      ],
      "execution_count": 112,
      "outputs": [
        {
          "output_type": "stream",
          "text": [
            "5 4 3 2 1\n",
            "NO\n"
          ],
          "name": "stdout"
        }
      ]
    },
    {
      "cell_type": "code",
      "metadata": {
        "colab": {
          "base_uri": "https://localhost:8080/"
        },
        "id": "lJNLt3H0c-ig",
        "outputId": "0700cf57-c57e-4ec7-86ed-0fb4bbfca252"
      },
      "source": [
        "# 36 \r\n",
        "dan = int(input())\r\n",
        "for i in range(1,10):\r\n",
        "\tprint(dan*i,end=\" \")\r\n"
      ],
      "execution_count": 173,
      "outputs": [
        {
          "output_type": "stream",
          "text": [
            "5\n",
            "5 10 15 20 25 30 35 40 45 "
          ],
          "name": "stdout"
        }
      ]
    },
    {
      "cell_type": "code",
      "metadata": {
        "colab": {
          "base_uri": "https://localhost:8080/",
          "height": 280
        },
        "id": "nwp9EumjeCte",
        "outputId": "27be2090-01e8-48cf-9d2e-0da3741e8711"
      },
      "source": [
        "# 37\r\n",
        "a = input().split() # 입력\r\n",
        "b = len(a) # 입력된리스트의 수 \r\n",
        "c = set(a) # 리스트를 셋으로 변경 중복 삭제\r\n",
        "d = list(c) # 삭제된 셋을 리스트로 변경\r\n",
        "max = 0 \r\n",
        "print(a,b,c,d)\r\n",
        "for i in range(b):\r\n",
        "  # print(d[i],end=\" \")\r\n",
        "  # print(a.count(d[i]))\r\n",
        "  if a.count(c[i]) > a.count(c[max]):\r\n",
        "    max=i\r\n",
        "    # print(\"%d로 변경되었습니다.\\n\" % max)\r\n",
        "\r\n",
        "print(\"%s(이)가 총 %d표로 반장이 되었습니다.\"% c[max],a.count(c[max]))\r\n",
        "\r\n",
        "# 원영 원영 은비 은비 은비 은비 채연 채연\r\n"
      ],
      "execution_count": 2,
      "outputs": [
        {
          "output_type": "stream",
          "text": [
            "원영 원영 은비 은비 은비 은비 채연 채연\n",
            "['원영', '원영', '은비', '은비', '은비', '은비', '채연', '채연'] 8 {'은비', '원영', '채연'} ['은비', '원영', '채연']\n"
          ],
          "name": "stdout"
        },
        {
          "output_type": "error",
          "ename": "TypeError",
          "evalue": "ignored",
          "traceback": [
            "\u001b[0;31m---------------------------------------------------------------------------\u001b[0m",
            "\u001b[0;31mTypeError\u001b[0m                                 Traceback (most recent call last)",
            "\u001b[0;32m<ipython-input-2-36e3fb2f0820>\u001b[0m in \u001b[0;36m<module>\u001b[0;34m()\u001b[0m\n\u001b[1;32m      9\u001b[0m   \u001b[0;31m# print(d[i],end=\" \")\u001b[0m\u001b[0;34m\u001b[0m\u001b[0;34m\u001b[0m\u001b[0;34m\u001b[0m\u001b[0m\n\u001b[1;32m     10\u001b[0m   \u001b[0;31m# print(a.count(d[i]))\u001b[0m\u001b[0;34m\u001b[0m\u001b[0;34m\u001b[0m\u001b[0;34m\u001b[0m\u001b[0m\n\u001b[0;32m---> 11\u001b[0;31m   \u001b[0;32mif\u001b[0m \u001b[0ma\u001b[0m\u001b[0;34m.\u001b[0m\u001b[0mcount\u001b[0m\u001b[0;34m(\u001b[0m\u001b[0mc\u001b[0m\u001b[0;34m[\u001b[0m\u001b[0mi\u001b[0m\u001b[0;34m]\u001b[0m\u001b[0;34m)\u001b[0m \u001b[0;34m>\u001b[0m \u001b[0ma\u001b[0m\u001b[0;34m.\u001b[0m\u001b[0mcount\u001b[0m\u001b[0;34m(\u001b[0m\u001b[0mc\u001b[0m\u001b[0;34m[\u001b[0m\u001b[0mmax\u001b[0m\u001b[0;34m]\u001b[0m\u001b[0;34m)\u001b[0m\u001b[0;34m:\u001b[0m\u001b[0;34m\u001b[0m\u001b[0;34m\u001b[0m\u001b[0m\n\u001b[0m\u001b[1;32m     12\u001b[0m     \u001b[0mmax\u001b[0m\u001b[0;34m=\u001b[0m\u001b[0mi\u001b[0m\u001b[0;34m\u001b[0m\u001b[0;34m\u001b[0m\u001b[0m\n\u001b[1;32m     13\u001b[0m     \u001b[0;31m# print(\"%d로 변경되었습니다.\\n\" % max)\u001b[0m\u001b[0;34m\u001b[0m\u001b[0;34m\u001b[0m\u001b[0;34m\u001b[0m\u001b[0m\n",
            "\u001b[0;31mTypeError\u001b[0m: 'set' object is not subscriptable"
          ]
        }
      ]
    },
    {
      "cell_type": "code",
      "metadata": {
        "colab": {
          "base_uri": "https://localhost:8080/"
        },
        "id": "PB70plEf3bUi",
        "outputId": "84486c65-75d2-47ea-a28c-81e02ef34e49"
      },
      "source": [
        "a = input().split()\r\n",
        "b = list(set(a))\r\n",
        "\r\n",
        "max = 0\r\n",
        "\r\n",
        "for i in range(len(b)):\r\n",
        "  if a.count(b[i]) > a.count(b[max]):\r\n",
        "    max = i\r\n",
        "\r\n",
        "print(\"%s(이)가 총 %d표로 반장이 되었습니다.\"% (b[max], a.count(b[max])))\r\n"
      ],
      "execution_count": 7,
      "outputs": [
        {
          "output_type": "stream",
          "text": [
            "원영 원영 은비 은비 은비 은비 채연 채연\n",
            "은비(이)가 총 4표로 반장이 되었습니다.\n"
          ],
          "name": "stdout"
        }
      ]
    },
    {
      "cell_type": "code",
      "metadata": {
        "colab": {
          "base_uri": "https://localhost:8080/"
        },
        "id": "OuIRS4f7-Fvj",
        "outputId": "81563ade-fbf5-407c-883f-52c2bfbd7250"
      },
      "source": [
        "# 38 오타 수정하기.\r\n",
        "\r\n",
        "a = input()\r\n",
        "print(a.replace('q','e'))"
      ],
      "execution_count": 4,
      "outputs": [
        {
          "output_type": "stream",
          "text": [
            "qwiofasdqfwqqfqwqqrweqwioqqwreqwqqq\n",
            "ewiofasdefweefeweerweewioeewreeweee\n"
          ],
          "name": "stdout"
        }
      ]
    },
    {
      "cell_type": "code",
      "metadata": {
        "colab": {
          "base_uri": "https://localhost:8080/"
        },
        "id": "8ep1yb6oD44w",
        "outputId": "0278a5e4-4dd8-49fb-d026-c83a18e2c303"
      },
      "source": [
        "# 41 \r\n",
        "\r\n",
        "a = int(input())\r\n",
        "if a/1==a and a/a==1 and a%2!=0 and a%5!=0:\r\n",
        "  print(\"YES\")\r\n",
        "elif a==5:\r\n",
        "  print(\"YES\")\r\n",
        "elif a==1:\r\n",
        "  print(\"NO\")\r\n",
        "else:\r\n",
        "  print(\"NO\")"
      ],
      "execution_count": 42,
      "outputs": [
        {
          "output_type": "stream",
          "text": [
            "11\n",
            "YES\n"
          ],
          "name": "stdout"
        }
      ]
    },
    {
      "cell_type": "code",
      "metadata": {
        "colab": {
          "base_uri": "https://localhost:8080/"
        },
        "id": "gnLK9X_EEmde",
        "outputId": "398a2ba3-7b18-4151-b411-57cdc7965e39"
      },
      "source": [
        "a = int(input()) # 숫자를 입력받는다\r\n",
        "\r\n",
        "re = 0 # re 변수 초기화\r\n",
        "\r\n",
        "for i in range(1, a+1): # 반복문 ( 그 수 까지)\r\n",
        "  if a % i == 0:   # 조건 입력받은 수를 그 수 앞에 \r\n",
        "    re += 1\r\n",
        "\r\n",
        "if re == 2:\r\n",
        "  print('YES')\r\n",
        "else:\r\n",
        "  print('NO')\r\n",
        "\r\n"
      ],
      "execution_count": 44,
      "outputs": [
        {
          "output_type": "stream",
          "text": [
            "677\n",
            "YES\n"
          ],
          "name": "stdout"
        }
      ]
    },
    {
      "cell_type": "code",
      "metadata": {
        "colab": {
          "base_uri": "https://localhost:8080/"
        },
        "id": "JbWLH05xIsaK",
        "outputId": "ff4d45b7-0509-4972-f14a-fb2a5354469a"
      },
      "source": [
        "# 44 \r\n",
        "print(sum(map(int,input())))"
      ],
      "execution_count": 51,
      "outputs": [
        {
          "output_type": "stream",
          "text": [
            "1234\n",
            "10\n"
          ],
          "name": "stdout"
        }
      ]
    },
    {
      "cell_type": "code",
      "metadata": {
        "colab": {
          "base_uri": "https://localhost:8080/"
        },
        "id": "KtBcCesxQnOi",
        "outputId": "4731f195-981d-4530-a5e2-784fc19b2dd9"
      },
      "source": [
        "n = list(map(int,input()))\r\n",
        "sum = 0 \r\n",
        "for i in n:\r\n",
        "  sum += i \r\n",
        "\r\n",
        "print(sum)"
      ],
      "execution_count": 54,
      "outputs": [
        {
          "output_type": "stream",
          "text": [
            "1234\n",
            "10\n"
          ],
          "name": "stdout"
        }
      ]
    },
    {
      "cell_type": "code",
      "metadata": {
        "colab": {
          "base_uri": "https://localhost:8080/"
        },
        "id": "EJJeXu_1T8Oy",
        "outputId": "48ba6a44-268c-4155-91df-ddc5c58fda7e"
      },
      "source": [
        "sum = 0 \r\n",
        "for i in input():\r\n",
        "  sum += int(i)\r\n",
        "print(sum)"
      ],
      "execution_count": 57,
      "outputs": [
        {
          "output_type": "stream",
          "text": [
            "18234\n",
            "18\n"
          ],
          "name": "stdout"
        }
      ]
    },
    {
      "cell_type": "code",
      "metadata": {
        "colab": {
          "base_uri": "https://localhost:8080/"
        },
        "id": "lYl65XGAUP30",
        "outputId": "61df8d9d-edea-4b63-997f-6d7b94283c97"
      },
      "source": [
        "# 46 \r\n",
        "\r\n",
        "sum = 0\r\n",
        "for i in list(range(21)):\r\n",
        "  for j in str(i):\r\n",
        "    sum += int(j)\r\n",
        "print(sum)\r\n",
        "\r\n",
        "# 변형 : 임의수를 입력 받아서 계산하기로 변경 7교시"
      ],
      "execution_count": 87,
      "outputs": [
        {
          "output_type": "stream",
          "text": [
            "102\n"
          ],
          "name": "stdout"
        }
      ]
    },
    {
      "cell_type": "code",
      "metadata": {
        "colab": {
          "base_uri": "https://localhost:8080/"
        },
        "id": "iM3h3_-0Uqtv",
        "outputId": "d4b72c2a-f9e2-4335-9f16-9a88bbb1b609"
      },
      "source": [
        "a = int(input())\r\n",
        "\r\n",
        "sum = 0 \r\n",
        "for i in list(range(a+1)):\r\n",
        "  for j in str(i):\r\n",
        "    sum += int(j)\r\n",
        "print(sum)"
      ],
      "execution_count": 92,
      "outputs": [
        {
          "output_type": "stream",
          "text": [
            "20\n",
            "102\n"
          ],
          "name": "stdout"
        }
      ]
    },
    {
      "cell_type": "code",
      "metadata": {
        "colab": {
          "base_uri": "https://localhost:8080/"
        },
        "id": "3sdvTG_hanY0",
        "outputId": "41521719-5400-4a9a-b59f-588cd755517f"
      },
      "source": [
        "x = ('a', 'b', 'c', 'd') \r\n",
        "for i in x:\r\n",
        "  print(i, end=' ') "
      ],
      "execution_count": 95,
      "outputs": [
        {
          "output_type": "stream",
          "text": [
            "a b c d "
          ],
          "name": "stdout"
        }
      ]
    },
    {
      "cell_type": "code",
      "metadata": {
        "colab": {
          "base_uri": "https://localhost:8080/"
        },
        "id": "OBIir1bvfVFO",
        "outputId": "fe8e076b-c437-4aeb-9572-528644056bbd"
      },
      "source": [
        "x = ['P', 'y', 't', 'h', 'o', 'n'] \r\n",
        "for i in x:\r\n",
        "  print(i, end='') "
      ],
      "execution_count": 97,
      "outputs": [
        {
          "output_type": "stream",
          "text": [
            "Python"
          ],
          "name": "stdout"
        }
      ]
    },
    {
      "cell_type": "code",
      "metadata": {
        "id": "aOzul_7Qfdgd"
      },
      "source": [
        ""
      ],
      "execution_count": null,
      "outputs": []
    }
  ]
}